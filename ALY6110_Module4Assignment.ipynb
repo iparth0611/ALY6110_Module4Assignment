{
  "nbformat": 4,
  "nbformat_minor": 0,
  "metadata": {
    "colab": {
      "provenance": [],
      "include_colab_link": true
    },
    "kernelspec": {
      "name": "python3",
      "display_name": "Python 3"
    },
    "language_info": {
      "name": "python"
    }
  },
  "cells": [
    {
      "cell_type": "markdown",
      "metadata": {
        "id": "view-in-github",
        "colab_type": "text"
      },
      "source": [
        "<a href=\"https://colab.research.google.com/github/iparth0611/ALY6110_Module4Assignment/blob/main/ALY6110_Module4Assignment.ipynb\" target=\"_parent\"><img src=\"https://colab.research.google.com/assets/colab-badge.svg\" alt=\"Open In Colab\"/></a>"
      ]
    },
    {
      "cell_type": "code",
      "execution_count": 6,
      "metadata": {
        "id": "Atdeph12e3-d"
      },
      "outputs": [],
      "source": [
        "# innstall java\n",
        "!apt-get install openjdk-8-jdk-headless -qq > /dev/null\n",
        "\n",
        "# install spark (change the version number if needed)\n",
        "!wget -q https://archive.apache.org/dist/spark/spark-3.0.0/spark-3.0.0-bin-hadoop3.2.tgz\n",
        "\n",
        "# unzip the spark file to the current folder\n",
        "!tar xf spark-3.0.0-bin-hadoop3.2.tgz\n",
        "\n",
        "# set your spark folder to your system path environment. \n",
        "import os\n",
        "os.environ[\"JAVA_HOME\"] = \"/usr/lib/jvm/java-8-openjdk-amd64\"\n",
        "os.environ[\"SPARK_HOME\"] = \"/content/spark-3.0.0-bin-hadoop3.2\"\n",
        "\n",
        "# install findspark using pip\n",
        "!pip install -q findspark"
      ]
    },
    {
      "cell_type": "code",
      "source": [
        "import pandas as pd\n",
        "import findspark\n",
        "findspark.init()\n",
        "from pyspark.sql import SparkSession\n",
        "spark = SparkSession.builder.master(\"local[*]\").getOrCreate()"
      ],
      "metadata": {
        "id": "tVb_4WdNfD2j"
      },
      "execution_count": 7,
      "outputs": []
    },
    {
      "cell_type": "code",
      "source": [
        "from google.colab import files\n",
        "files.upload()"
      ],
      "metadata": {
        "colab": {
          "base_uri": "https://localhost:8080/",
          "height": 130
        },
        "id": "eO-FDrK8fETt",
        "outputId": "f4a5f63a-f6f4-4d7e-b236-7e9712fe13ae"
      },
      "execution_count": 9,
      "outputs": [
        {
          "output_type": "display_data",
          "data": {
            "text/plain": [
              "<IPython.core.display.HTML object>"
            ],
            "text/html": [
              "\n",
              "     <input type=\"file\" id=\"files-036270a1-73ce-4125-a6e1-640b90607a99\" name=\"files[]\" multiple disabled\n",
              "        style=\"border:none\" />\n",
              "     <output id=\"result-036270a1-73ce-4125-a6e1-640b90607a99\">\n",
              "      Upload widget is only available when the cell has been executed in the\n",
              "      current browser session. Please rerun this cell to enable.\n",
              "      </output>\n",
              "      <script>// Copyright 2017 Google LLC\n",
              "//\n",
              "// Licensed under the Apache License, Version 2.0 (the \"License\");\n",
              "// you may not use this file except in compliance with the License.\n",
              "// You may obtain a copy of the License at\n",
              "//\n",
              "//      http://www.apache.org/licenses/LICENSE-2.0\n",
              "//\n",
              "// Unless required by applicable law or agreed to in writing, software\n",
              "// distributed under the License is distributed on an \"AS IS\" BASIS,\n",
              "// WITHOUT WARRANTIES OR CONDITIONS OF ANY KIND, either express or implied.\n",
              "// See the License for the specific language governing permissions and\n",
              "// limitations under the License.\n",
              "\n",
              "/**\n",
              " * @fileoverview Helpers for google.colab Python module.\n",
              " */\n",
              "(function(scope) {\n",
              "function span(text, styleAttributes = {}) {\n",
              "  const element = document.createElement('span');\n",
              "  element.textContent = text;\n",
              "  for (const key of Object.keys(styleAttributes)) {\n",
              "    element.style[key] = styleAttributes[key];\n",
              "  }\n",
              "  return element;\n",
              "}\n",
              "\n",
              "// Max number of bytes which will be uploaded at a time.\n",
              "const MAX_PAYLOAD_SIZE = 100 * 1024;\n",
              "\n",
              "function _uploadFiles(inputId, outputId) {\n",
              "  const steps = uploadFilesStep(inputId, outputId);\n",
              "  const outputElement = document.getElementById(outputId);\n",
              "  // Cache steps on the outputElement to make it available for the next call\n",
              "  // to uploadFilesContinue from Python.\n",
              "  outputElement.steps = steps;\n",
              "\n",
              "  return _uploadFilesContinue(outputId);\n",
              "}\n",
              "\n",
              "// This is roughly an async generator (not supported in the browser yet),\n",
              "// where there are multiple asynchronous steps and the Python side is going\n",
              "// to poll for completion of each step.\n",
              "// This uses a Promise to block the python side on completion of each step,\n",
              "// then passes the result of the previous step as the input to the next step.\n",
              "function _uploadFilesContinue(outputId) {\n",
              "  const outputElement = document.getElementById(outputId);\n",
              "  const steps = outputElement.steps;\n",
              "\n",
              "  const next = steps.next(outputElement.lastPromiseValue);\n",
              "  return Promise.resolve(next.value.promise).then((value) => {\n",
              "    // Cache the last promise value to make it available to the next\n",
              "    // step of the generator.\n",
              "    outputElement.lastPromiseValue = value;\n",
              "    return next.value.response;\n",
              "  });\n",
              "}\n",
              "\n",
              "/**\n",
              " * Generator function which is called between each async step of the upload\n",
              " * process.\n",
              " * @param {string} inputId Element ID of the input file picker element.\n",
              " * @param {string} outputId Element ID of the output display.\n",
              " * @return {!Iterable<!Object>} Iterable of next steps.\n",
              " */\n",
              "function* uploadFilesStep(inputId, outputId) {\n",
              "  const inputElement = document.getElementById(inputId);\n",
              "  inputElement.disabled = false;\n",
              "\n",
              "  const outputElement = document.getElementById(outputId);\n",
              "  outputElement.innerHTML = '';\n",
              "\n",
              "  const pickedPromise = new Promise((resolve) => {\n",
              "    inputElement.addEventListener('change', (e) => {\n",
              "      resolve(e.target.files);\n",
              "    });\n",
              "  });\n",
              "\n",
              "  const cancel = document.createElement('button');\n",
              "  inputElement.parentElement.appendChild(cancel);\n",
              "  cancel.textContent = 'Cancel upload';\n",
              "  const cancelPromise = new Promise((resolve) => {\n",
              "    cancel.onclick = () => {\n",
              "      resolve(null);\n",
              "    };\n",
              "  });\n",
              "\n",
              "  // Wait for the user to pick the files.\n",
              "  const files = yield {\n",
              "    promise: Promise.race([pickedPromise, cancelPromise]),\n",
              "    response: {\n",
              "      action: 'starting',\n",
              "    }\n",
              "  };\n",
              "\n",
              "  cancel.remove();\n",
              "\n",
              "  // Disable the input element since further picks are not allowed.\n",
              "  inputElement.disabled = true;\n",
              "\n",
              "  if (!files) {\n",
              "    return {\n",
              "      response: {\n",
              "        action: 'complete',\n",
              "      }\n",
              "    };\n",
              "  }\n",
              "\n",
              "  for (const file of files) {\n",
              "    const li = document.createElement('li');\n",
              "    li.append(span(file.name, {fontWeight: 'bold'}));\n",
              "    li.append(span(\n",
              "        `(${file.type || 'n/a'}) - ${file.size} bytes, ` +\n",
              "        `last modified: ${\n",
              "            file.lastModifiedDate ? file.lastModifiedDate.toLocaleDateString() :\n",
              "                                    'n/a'} - `));\n",
              "    const percent = span('0% done');\n",
              "    li.appendChild(percent);\n",
              "\n",
              "    outputElement.appendChild(li);\n",
              "\n",
              "    const fileDataPromise = new Promise((resolve) => {\n",
              "      const reader = new FileReader();\n",
              "      reader.onload = (e) => {\n",
              "        resolve(e.target.result);\n",
              "      };\n",
              "      reader.readAsArrayBuffer(file);\n",
              "    });\n",
              "    // Wait for the data to be ready.\n",
              "    let fileData = yield {\n",
              "      promise: fileDataPromise,\n",
              "      response: {\n",
              "        action: 'continue',\n",
              "      }\n",
              "    };\n",
              "\n",
              "    // Use a chunked sending to avoid message size limits. See b/62115660.\n",
              "    let position = 0;\n",
              "    do {\n",
              "      const length = Math.min(fileData.byteLength - position, MAX_PAYLOAD_SIZE);\n",
              "      const chunk = new Uint8Array(fileData, position, length);\n",
              "      position += length;\n",
              "\n",
              "      const base64 = btoa(String.fromCharCode.apply(null, chunk));\n",
              "      yield {\n",
              "        response: {\n",
              "          action: 'append',\n",
              "          file: file.name,\n",
              "          data: base64,\n",
              "        },\n",
              "      };\n",
              "\n",
              "      let percentDone = fileData.byteLength === 0 ?\n",
              "          100 :\n",
              "          Math.round((position / fileData.byteLength) * 100);\n",
              "      percent.textContent = `${percentDone}% done`;\n",
              "\n",
              "    } while (position < fileData.byteLength);\n",
              "  }\n",
              "\n",
              "  // All done.\n",
              "  yield {\n",
              "    response: {\n",
              "      action: 'complete',\n",
              "    }\n",
              "  };\n",
              "}\n",
              "\n",
              "scope.google = scope.google || {};\n",
              "scope.google.colab = scope.google.colab || {};\n",
              "scope.google.colab._files = {\n",
              "  _uploadFiles,\n",
              "  _uploadFilesContinue,\n",
              "};\n",
              "})(self);\n",
              "</script> "
            ]
          },
          "metadata": {}
        },
        {
          "output_type": "stream",
          "name": "stdout",
          "text": [
            "Saving Advertising.csv to Advertising.csv\n"
          ]
        },
        {
          "output_type": "execute_result",
          "data": {
            "text/plain": [
              "{'Advertising.csv': b'\"\",\"TV\",\"Radio\",\"Newspaper\",\"Sales\"\\r\\n\"1\",230.1,37.8,69.2,22.1\\r\\n\"2\",44.5,39.3,45.1,10.4\\r\\n\"3\",17.2,45.9,69.3,9.3\\r\\n\"4\",151.5,41.3,58.5,18.5\\r\\n\"5\",180.8,10.8,58.4,12.9\\r\\n\"6\",8.7,48.9,75,7.2\\r\\n\"7\",57.5,32.8,23.5,11.8\\r\\n\"8\",120.2,19.6,11.6,13.2\\r\\n\"9\",8.6,2.1,1,4.8\\r\\n\"10\",199.8,2.6,21.2,10.6\\r\\n\"11\",66.1,5.8,24.2,8.6\\r\\n\"12\",214.7,24,4,17.4\\r\\n\"13\",23.8,35.1,65.9,9.2\\r\\n\"14\",97.5,7.6,7.2,9.7\\r\\n\"15\",204.1,32.9,46,19\\r\\n\"16\",195.4,47.7,52.9,22.4\\r\\n\"17\",67.8,36.6,114,12.5\\r\\n\"18\",281.4,39.6,55.8,24.4\\r\\n\"19\",69.2,20.5,18.3,11.3\\r\\n\"20\",147.3,23.9,19.1,14.6\\r\\n\"21\",218.4,27.7,53.4,18\\r\\n\"22\",237.4,5.1,23.5,12.5\\r\\n\"23\",13.2,15.9,49.6,5.6\\r\\n\"24\",228.3,16.9,26.2,15.5\\r\\n\"25\",62.3,12.6,18.3,9.7\\r\\n\"26\",262.9,3.5,19.5,12\\r\\n\"27\",142.9,29.3,12.6,15\\r\\n\"28\",240.1,16.7,22.9,15.9\\r\\n\"29\",248.8,27.1,22.9,18.9\\r\\n\"30\",70.6,16,40.8,10.5\\r\\n\"31\",292.9,28.3,43.2,21.4\\r\\n\"32\",112.9,17.4,38.6,11.9\\r\\n\"33\",97.2,1.5,30,9.6\\r\\n\"34\",265.6,20,0.3,17.4\\r\\n\"35\",95.7,1.4,7.4,9.5\\r\\n\"36\",290.7,4.1,8.5,12.8\\r\\n\"37\",266.9,43.8,5,25.4\\r\\n\"38\",74.7,49.4,45.7,14.7\\r\\n\"39\",43.1,26.7,35.1,10.1\\r\\n\"40\",228,37.7,32,21.5\\r\\n\"41\",202.5,22.3,31.6,16.6\\r\\n\"42\",177,33.4,38.7,17.1\\r\\n\"43\",293.6,27.7,1.8,20.7\\r\\n\"44\",206.9,8.4,26.4,12.9\\r\\n\"45\",25.1,25.7,43.3,8.5\\r\\n\"46\",175.1,22.5,31.5,14.9\\r\\n\"47\",89.7,9.9,35.7,10.6\\r\\n\"48\",239.9,41.5,18.5,23.2\\r\\n\"49\",227.2,15.8,49.9,14.8\\r\\n\"50\",66.9,11.7,36.8,9.7\\r\\n\"51\",199.8,3.1,34.6,11.4\\r\\n\"52\",100.4,9.6,3.6,10.7\\r\\n\"53\",216.4,41.7,39.6,22.6\\r\\n\"54\",182.6,46.2,58.7,21.2\\r\\n\"55\",262.7,28.8,15.9,20.2\\r\\n\"56\",198.9,49.4,60,23.7\\r\\n\"57\",7.3,28.1,41.4,5.5\\r\\n\"58\",136.2,19.2,16.6,13.2\\r\\n\"59\",210.8,49.6,37.7,23.8\\r\\n\"60\",210.7,29.5,9.3,18.4\\r\\n\"61\",53.5,2,21.4,8.1\\r\\n\"62\",261.3,42.7,54.7,24.2\\r\\n\"63\",239.3,15.5,27.3,15.7\\r\\n\"64\",102.7,29.6,8.4,14\\r\\n\"65\",131.1,42.8,28.9,18\\r\\n\"66\",69,9.3,0.9,9.3\\r\\n\"67\",31.5,24.6,2.2,9.5\\r\\n\"68\",139.3,14.5,10.2,13.4\\r\\n\"69\",237.4,27.5,11,18.9\\r\\n\"70\",216.8,43.9,27.2,22.3\\r\\n\"71\",199.1,30.6,38.7,18.3\\r\\n\"72\",109.8,14.3,31.7,12.4\\r\\n\"73\",26.8,33,19.3,8.8\\r\\n\"74\",129.4,5.7,31.3,11\\r\\n\"75\",213.4,24.6,13.1,17\\r\\n\"76\",16.9,43.7,89.4,8.7\\r\\n\"77\",27.5,1.6,20.7,6.9\\r\\n\"78\",120.5,28.5,14.2,14.2\\r\\n\"79\",5.4,29.9,9.4,5.3\\r\\n\"80\",116,7.7,23.1,11\\r\\n\"81\",76.4,26.7,22.3,11.8\\r\\n\"82\",239.8,4.1,36.9,12.3\\r\\n\"83\",75.3,20.3,32.5,11.3\\r\\n\"84\",68.4,44.5,35.6,13.6\\r\\n\"85\",213.5,43,33.8,21.7\\r\\n\"86\",193.2,18.4,65.7,15.2\\r\\n\"87\",76.3,27.5,16,12\\r\\n\"88\",110.7,40.6,63.2,16\\r\\n\"89\",88.3,25.5,73.4,12.9\\r\\n\"90\",109.8,47.8,51.4,16.7\\r\\n\"91\",134.3,4.9,9.3,11.2\\r\\n\"92\",28.6,1.5,33,7.3\\r\\n\"93\",217.7,33.5,59,19.4\\r\\n\"94\",250.9,36.5,72.3,22.2\\r\\n\"95\",107.4,14,10.9,11.5\\r\\n\"96\",163.3,31.6,52.9,16.9\\r\\n\"97\",197.6,3.5,5.9,11.7\\r\\n\"98\",184.9,21,22,15.5\\r\\n\"99\",289.7,42.3,51.2,25.4\\r\\n\"100\",135.2,41.7,45.9,17.2\\r\\n\"101\",222.4,4.3,49.8,11.7\\r\\n\"102\",296.4,36.3,100.9,23.8\\r\\n\"103\",280.2,10.1,21.4,14.8\\r\\n\"104\",187.9,17.2,17.9,14.7\\r\\n\"105\",238.2,34.3,5.3,20.7\\r\\n\"106\",137.9,46.4,59,19.2\\r\\n\"107\",25,11,29.7,7.2\\r\\n\"108\",90.4,0.3,23.2,8.7\\r\\n\"109\",13.1,0.4,25.6,5.3\\r\\n\"110\",255.4,26.9,5.5,19.8\\r\\n\"111\",225.8,8.2,56.5,13.4\\r\\n\"112\",241.7,38,23.2,21.8\\r\\n\"113\",175.7,15.4,2.4,14.1\\r\\n\"114\",209.6,20.6,10.7,15.9\\r\\n\"115\",78.2,46.8,34.5,14.6\\r\\n\"116\",75.1,35,52.7,12.6\\r\\n\"117\",139.2,14.3,25.6,12.2\\r\\n\"118\",76.4,0.8,14.8,9.4\\r\\n\"119\",125.7,36.9,79.2,15.9\\r\\n\"120\",19.4,16,22.3,6.6\\r\\n\"121\",141.3,26.8,46.2,15.5\\r\\n\"122\",18.8,21.7,50.4,7\\r\\n\"123\",224,2.4,15.6,11.6\\r\\n\"124\",123.1,34.6,12.4,15.2\\r\\n\"125\",229.5,32.3,74.2,19.7\\r\\n\"126\",87.2,11.8,25.9,10.6\\r\\n\"127\",7.8,38.9,50.6,6.6\\r\\n\"128\",80.2,0,9.2,8.8\\r\\n\"129\",220.3,49,3.2,24.7\\r\\n\"130\",59.6,12,43.1,9.7\\r\\n\"131\",0.7,39.6,8.7,1.6\\r\\n\"132\",265.2,2.9,43,12.7\\r\\n\"133\",8.4,27.2,2.1,5.7\\r\\n\"134\",219.8,33.5,45.1,19.6\\r\\n\"135\",36.9,38.6,65.6,10.8\\r\\n\"136\",48.3,47,8.5,11.6\\r\\n\"137\",25.6,39,9.3,9.5\\r\\n\"138\",273.7,28.9,59.7,20.8\\r\\n\"139\",43,25.9,20.5,9.6\\r\\n\"140\",184.9,43.9,1.7,20.7\\r\\n\"141\",73.4,17,12.9,10.9\\r\\n\"142\",193.7,35.4,75.6,19.2\\r\\n\"143\",220.5,33.2,37.9,20.1\\r\\n\"144\",104.6,5.7,34.4,10.4\\r\\n\"145\",96.2,14.8,38.9,11.4\\r\\n\"146\",140.3,1.9,9,10.3\\r\\n\"147\",240.1,7.3,8.7,13.2\\r\\n\"148\",243.2,49,44.3,25.4\\r\\n\"149\",38,40.3,11.9,10.9\\r\\n\"150\",44.7,25.8,20.6,10.1\\r\\n\"151\",280.7,13.9,37,16.1\\r\\n\"152\",121,8.4,48.7,11.6\\r\\n\"153\",197.6,23.3,14.2,16.6\\r\\n\"154\",171.3,39.7,37.7,19\\r\\n\"155\",187.8,21.1,9.5,15.6\\r\\n\"156\",4.1,11.6,5.7,3.2\\r\\n\"157\",93.9,43.5,50.5,15.3\\r\\n\"158\",149.8,1.3,24.3,10.1\\r\\n\"159\",11.7,36.9,45.2,7.3\\r\\n\"160\",131.7,18.4,34.6,12.9\\r\\n\"161\",172.5,18.1,30.7,14.4\\r\\n\"162\",85.7,35.8,49.3,13.3\\r\\n\"163\",188.4,18.1,25.6,14.9\\r\\n\"164\",163.5,36.8,7.4,18\\r\\n\"165\",117.2,14.7,5.4,11.9\\r\\n\"166\",234.5,3.4,84.8,11.9\\r\\n\"167\",17.9,37.6,21.6,8\\r\\n\"168\",206.8,5.2,19.4,12.2\\r\\n\"169\",215.4,23.6,57.6,17.1\\r\\n\"170\",284.3,10.6,6.4,15\\r\\n\"171\",50,11.6,18.4,8.4\\r\\n\"172\",164.5,20.9,47.4,14.5\\r\\n\"173\",19.6,20.1,17,7.6\\r\\n\"174\",168.4,7.1,12.8,11.7\\r\\n\"175\",222.4,3.4,13.1,11.5\\r\\n\"176\",276.9,48.9,41.8,27\\r\\n\"177\",248.4,30.2,20.3,20.2\\r\\n\"178\",170.2,7.8,35.2,11.7\\r\\n\"179\",276.7,2.3,23.7,11.8\\r\\n\"180\",165.6,10,17.6,12.6\\r\\n\"181\",156.6,2.6,8.3,10.5\\r\\n\"182\",218.5,5.4,27.4,12.2\\r\\n\"183\",56.2,5.7,29.7,8.7\\r\\n\"184\",287.6,43,71.8,26.2\\r\\n\"185\",253.8,21.3,30,17.6\\r\\n\"186\",205,45.1,19.6,22.6\\r\\n\"187\",139.5,2.1,26.6,10.3\\r\\n\"188\",191.1,28.7,18.2,17.3\\r\\n\"189\",286,13.9,3.7,15.9\\r\\n\"190\",18.7,12.1,23.4,6.7\\r\\n\"191\",39.5,41.1,5.8,10.8\\r\\n\"192\",75.5,10.8,6,9.9\\r\\n\"193\",17.2,4.1,31.6,5.9\\r\\n\"194\",166.8,42,3.6,19.6\\r\\n\"195\",149.7,35.6,6,17.3\\r\\n\"196\",38.2,3.7,13.8,7.6\\r\\n\"197\",94.2,4.9,8.1,9.7\\r\\n\"198\",177,9.3,6.4,12.8\\r\\n\"199\",283.6,42,66.2,25.5\\r\\n\"200\",232.1,8.6,8.7,13.4\\r\\n'}"
            ]
          },
          "metadata": {},
          "execution_count": 9
        }
      ]
    },
    {
      "cell_type": "code",
      "source": [
        "Ad= spark.read.csv('Advertising.csv',inferSchema=True, header=True)"
      ],
      "metadata": {
        "id": "4CVqqI5ifGCb"
      },
      "execution_count": 24,
      "outputs": []
    },
    {
      "cell_type": "code",
      "source": [
        "Ad.show(10)"
      ],
      "metadata": {
        "colab": {
          "base_uri": "https://localhost:8080/"
        },
        "id": "3Ln0KCJh2cWw",
        "outputId": "38e53a38-7e4f-47bd-92ce-2aa7c8d749ab"
      },
      "execution_count": 26,
      "outputs": [
        {
          "output_type": "stream",
          "name": "stdout",
          "text": [
            "+---+-----+-----+---------+-----+\n",
            "|_c0|   TV|Radio|Newspaper|Sales|\n",
            "+---+-----+-----+---------+-----+\n",
            "|  1|230.1| 37.8|     69.2| 22.1|\n",
            "|  2| 44.5| 39.3|     45.1| 10.4|\n",
            "|  3| 17.2| 45.9|     69.3|  9.3|\n",
            "|  4|151.5| 41.3|     58.5| 18.5|\n",
            "|  5|180.8| 10.8|     58.4| 12.9|\n",
            "|  6|  8.7| 48.9|     75.0|  7.2|\n",
            "|  7| 57.5| 32.8|     23.5| 11.8|\n",
            "|  8|120.2| 19.6|     11.6| 13.2|\n",
            "|  9|  8.6|  2.1|      1.0|  4.8|\n",
            "| 10|199.8|  2.6|     21.2| 10.6|\n",
            "+---+-----+-----+---------+-----+\n",
            "only showing top 10 rows\n",
            "\n"
          ]
        }
      ]
    },
    {
      "cell_type": "code",
      "source": [
        "Ad.show(10)"
      ],
      "metadata": {
        "colab": {
          "base_uri": "https://localhost:8080/"
        },
        "id": "9f0og1taf5mO",
        "outputId": "4e8caeef-1a59-4c82-d254-bac466eb919b"
      },
      "execution_count": 11,
      "outputs": [
        {
          "output_type": "stream",
          "name": "stdout",
          "text": [
            "+---+-----+-----+---------+-----+\n",
            "|_c0|   TV|Radio|Newspaper|Sales|\n",
            "+---+-----+-----+---------+-----+\n",
            "|  1|230.1| 37.8|     69.2| 22.1|\n",
            "|  2| 44.5| 39.3|     45.1| 10.4|\n",
            "|  3| 17.2| 45.9|     69.3|  9.3|\n",
            "|  4|151.5| 41.3|     58.5| 18.5|\n",
            "|  5|180.8| 10.8|     58.4| 12.9|\n",
            "|  6|  8.7| 48.9|     75.0|  7.2|\n",
            "|  7| 57.5| 32.8|     23.5| 11.8|\n",
            "|  8|120.2| 19.6|     11.6| 13.2|\n",
            "|  9|  8.6|  2.1|      1.0|  4.8|\n",
            "| 10|199.8|  2.6|     21.2| 10.6|\n",
            "+---+-----+-----+---------+-----+\n",
            "only showing top 10 rows\n",
            "\n"
          ]
        }
      ]
    },
    {
      "cell_type": "code",
      "source": [
        "Ad.describe()"
      ],
      "metadata": {
        "colab": {
          "base_uri": "https://localhost:8080/",
          "height": 279
        },
        "id": "-rWvbJoh2G5R",
        "outputId": "db6c6625-1182-49d0-f73e-4a9e057e23df"
      },
      "execution_count": 20,
      "outputs": [
        {
          "output_type": "execute_result",
          "data": {
            "text/plain": [
              "            Index          TV       Radio   Newspaper       Sales\n",
              "count  200.000000  200.000000  200.000000  200.000000  200.000000\n",
              "mean   100.500000  147.042500   23.264000   30.554000   14.022500\n",
              "std     57.879185   85.854236   14.846809   21.778621    5.217457\n",
              "min      1.000000    0.700000    0.000000    0.300000    1.600000\n",
              "25%     50.750000   74.375000    9.975000   12.750000   10.375000\n",
              "50%    100.500000  149.750000   22.900000   25.750000   12.900000\n",
              "75%    150.250000  218.825000   36.525000   45.100000   17.400000\n",
              "max    200.000000  296.400000   49.600000  114.000000   27.000000"
            ],
            "text/html": [
              "\n",
              "  <div id=\"df-576f6387-6b0f-47b2-bab6-4c8439cc7808\">\n",
              "    <div class=\"colab-df-container\">\n",
              "      <div>\n",
              "<style scoped>\n",
              "    .dataframe tbody tr th:only-of-type {\n",
              "        vertical-align: middle;\n",
              "    }\n",
              "\n",
              "    .dataframe tbody tr th {\n",
              "        vertical-align: top;\n",
              "    }\n",
              "\n",
              "    .dataframe thead th {\n",
              "        text-align: right;\n",
              "    }\n",
              "</style>\n",
              "<table border=\"1\" class=\"dataframe\">\n",
              "  <thead>\n",
              "    <tr style=\"text-align: right;\">\n",
              "      <th></th>\n",
              "      <th>Index</th>\n",
              "      <th>TV</th>\n",
              "      <th>Radio</th>\n",
              "      <th>Newspaper</th>\n",
              "      <th>Sales</th>\n",
              "    </tr>\n",
              "  </thead>\n",
              "  <tbody>\n",
              "    <tr>\n",
              "      <th>count</th>\n",
              "      <td>200.000000</td>\n",
              "      <td>200.000000</td>\n",
              "      <td>200.000000</td>\n",
              "      <td>200.000000</td>\n",
              "      <td>200.000000</td>\n",
              "    </tr>\n",
              "    <tr>\n",
              "      <th>mean</th>\n",
              "      <td>100.500000</td>\n",
              "      <td>147.042500</td>\n",
              "      <td>23.264000</td>\n",
              "      <td>30.554000</td>\n",
              "      <td>14.022500</td>\n",
              "    </tr>\n",
              "    <tr>\n",
              "      <th>std</th>\n",
              "      <td>57.879185</td>\n",
              "      <td>85.854236</td>\n",
              "      <td>14.846809</td>\n",
              "      <td>21.778621</td>\n",
              "      <td>5.217457</td>\n",
              "    </tr>\n",
              "    <tr>\n",
              "      <th>min</th>\n",
              "      <td>1.000000</td>\n",
              "      <td>0.700000</td>\n",
              "      <td>0.000000</td>\n",
              "      <td>0.300000</td>\n",
              "      <td>1.600000</td>\n",
              "    </tr>\n",
              "    <tr>\n",
              "      <th>25%</th>\n",
              "      <td>50.750000</td>\n",
              "      <td>74.375000</td>\n",
              "      <td>9.975000</td>\n",
              "      <td>12.750000</td>\n",
              "      <td>10.375000</td>\n",
              "    </tr>\n",
              "    <tr>\n",
              "      <th>50%</th>\n",
              "      <td>100.500000</td>\n",
              "      <td>149.750000</td>\n",
              "      <td>22.900000</td>\n",
              "      <td>25.750000</td>\n",
              "      <td>12.900000</td>\n",
              "    </tr>\n",
              "    <tr>\n",
              "      <th>75%</th>\n",
              "      <td>150.250000</td>\n",
              "      <td>218.825000</td>\n",
              "      <td>36.525000</td>\n",
              "      <td>45.100000</td>\n",
              "      <td>17.400000</td>\n",
              "    </tr>\n",
              "    <tr>\n",
              "      <th>max</th>\n",
              "      <td>200.000000</td>\n",
              "      <td>296.400000</td>\n",
              "      <td>49.600000</td>\n",
              "      <td>114.000000</td>\n",
              "      <td>27.000000</td>\n",
              "    </tr>\n",
              "  </tbody>\n",
              "</table>\n",
              "</div>\n",
              "      <button class=\"colab-df-convert\" onclick=\"convertToInteractive('df-576f6387-6b0f-47b2-bab6-4c8439cc7808')\"\n",
              "              title=\"Convert this dataframe to an interactive table.\"\n",
              "              style=\"display:none;\">\n",
              "        \n",
              "  <svg xmlns=\"http://www.w3.org/2000/svg\" height=\"24px\"viewBox=\"0 0 24 24\"\n",
              "       width=\"24px\">\n",
              "    <path d=\"M0 0h24v24H0V0z\" fill=\"none\"/>\n",
              "    <path d=\"M18.56 5.44l.94 2.06.94-2.06 2.06-.94-2.06-.94-.94-2.06-.94 2.06-2.06.94zm-11 1L8.5 8.5l.94-2.06 2.06-.94-2.06-.94L8.5 2.5l-.94 2.06-2.06.94zm10 10l.94 2.06.94-2.06 2.06-.94-2.06-.94-.94-2.06-.94 2.06-2.06.94z\"/><path d=\"M17.41 7.96l-1.37-1.37c-.4-.4-.92-.59-1.43-.59-.52 0-1.04.2-1.43.59L10.3 9.45l-7.72 7.72c-.78.78-.78 2.05 0 2.83L4 21.41c.39.39.9.59 1.41.59.51 0 1.02-.2 1.41-.59l7.78-7.78 2.81-2.81c.8-.78.8-2.07 0-2.86zM5.41 20L4 18.59l7.72-7.72 1.47 1.35L5.41 20z\"/>\n",
              "  </svg>\n",
              "      </button>\n",
              "      \n",
              "  <style>\n",
              "    .colab-df-container {\n",
              "      display:flex;\n",
              "      flex-wrap:wrap;\n",
              "      gap: 12px;\n",
              "    }\n",
              "\n",
              "    .colab-df-convert {\n",
              "      background-color: #E8F0FE;\n",
              "      border: none;\n",
              "      border-radius: 50%;\n",
              "      cursor: pointer;\n",
              "      display: none;\n",
              "      fill: #1967D2;\n",
              "      height: 32px;\n",
              "      padding: 0 0 0 0;\n",
              "      width: 32px;\n",
              "    }\n",
              "\n",
              "    .colab-df-convert:hover {\n",
              "      background-color: #E2EBFA;\n",
              "      box-shadow: 0px 1px 2px rgba(60, 64, 67, 0.3), 0px 1px 3px 1px rgba(60, 64, 67, 0.15);\n",
              "      fill: #174EA6;\n",
              "    }\n",
              "\n",
              "    [theme=dark] .colab-df-convert {\n",
              "      background-color: #3B4455;\n",
              "      fill: #D2E3FC;\n",
              "    }\n",
              "\n",
              "    [theme=dark] .colab-df-convert:hover {\n",
              "      background-color: #434B5C;\n",
              "      box-shadow: 0px 1px 3px 1px rgba(0, 0, 0, 0.15);\n",
              "      filter: drop-shadow(0px 1px 2px rgba(0, 0, 0, 0.3));\n",
              "      fill: #FFFFFF;\n",
              "    }\n",
              "  </style>\n",
              "\n",
              "      <script>\n",
              "        const buttonEl =\n",
              "          document.querySelector('#df-576f6387-6b0f-47b2-bab6-4c8439cc7808 button.colab-df-convert');\n",
              "        buttonEl.style.display =\n",
              "          google.colab.kernel.accessAllowed ? 'block' : 'none';\n",
              "\n",
              "        async function convertToInteractive(key) {\n",
              "          const element = document.querySelector('#df-576f6387-6b0f-47b2-bab6-4c8439cc7808');\n",
              "          const dataTable =\n",
              "            await google.colab.kernel.invokeFunction('convertToInteractive',\n",
              "                                                     [key], {});\n",
              "          if (!dataTable) return;\n",
              "\n",
              "          const docLinkHtml = 'Like what you see? Visit the ' +\n",
              "            '<a target=\"_blank\" href=https://colab.research.google.com/notebooks/data_table.ipynb>data table notebook</a>'\n",
              "            + ' to learn more about interactive tables.';\n",
              "          element.innerHTML = '';\n",
              "          dataTable['output_type'] = 'display_data';\n",
              "          await google.colab.output.renderOutput(dataTable, element);\n",
              "          const docLink = document.createElement('div');\n",
              "          docLink.innerHTML = docLinkHtml;\n",
              "          element.appendChild(docLink);\n",
              "        }\n",
              "      </script>\n",
              "    </div>\n",
              "  </div>\n",
              "  "
            ]
          },
          "metadata": {},
          "execution_count": 20
        }
      ]
    },
    {
      "cell_type": "code",
      "source": [
        "Ad.printSchema()"
      ],
      "metadata": {
        "colab": {
          "base_uri": "https://localhost:8080/"
        },
        "id": "FizrICY4gm5w",
        "outputId": "ef162bc8-c2ff-45db-a4b0-2956bd40c7c0"
      },
      "execution_count": 12,
      "outputs": [
        {
          "output_type": "stream",
          "name": "stdout",
          "text": [
            "root\n",
            " |-- _c0: integer (nullable = true)\n",
            " |-- TV: double (nullable = true)\n",
            " |-- Radio: double (nullable = true)\n",
            " |-- Newspaper: double (nullable = true)\n",
            " |-- Sales: double (nullable = true)\n",
            "\n"
          ]
        }
      ]
    },
    {
      "cell_type": "code",
      "source": [
        "Ad = Ad.withColumnRenamed(\"_c0\", \"Index\")\n",
        "\n",
        "# Printing to show the change in column name\n",
        "Ad.describe().show(5)"
      ],
      "metadata": {
        "colab": {
          "base_uri": "https://localhost:8080/"
        },
        "id": "0S8YDrAvhuZu",
        "outputId": "5ab6fb0c-e65c-45e9-dc1a-b4626137a1ee"
      },
      "execution_count": 13,
      "outputs": [
        {
          "output_type": "stream",
          "name": "stdout",
          "text": [
            "+-------+------------------+-----------------+------------------+------------------+------------------+\n",
            "|summary|             Index|               TV|             Radio|         Newspaper|             Sales|\n",
            "+-------+------------------+-----------------+------------------+------------------+------------------+\n",
            "|  count|               200|              200|               200|               200|               200|\n",
            "|   mean|             100.5|         147.0425|23.264000000000024|30.553999999999995|14.022500000000003|\n",
            "| stddev|57.879184513951124|85.85423631490805|14.846809176168728| 21.77862083852283| 5.217456565710477|\n",
            "|    min|                 1|              0.7|               0.0|               0.3|               1.6|\n",
            "|    max|               200|            296.4|              49.6|             114.0|              27.0|\n",
            "+-------+------------------+-----------------+------------------+------------------+------------------+\n",
            "\n"
          ]
        }
      ]
    },
    {
      "cell_type": "code",
      "source": [
        "import seaborn as sns\n",
        "import matplotlib.pyplot as plt\n",
        "\n",
        "from pyspark.sql.types import *\n",
        "import pyspark.sql.functions as F\n",
        "from pyspark.sql.functions import udf, col"
      ],
      "metadata": {
        "id": "6lj7JLzxl4Uy"
      },
      "execution_count": 14,
      "outputs": []
    },
    {
      "cell_type": "code",
      "source": [
        "sns.histplot(Ad.select('Radio','TV','Newspaper').toPandas(), bins = 10)"
      ],
      "metadata": {
        "colab": {
          "base_uri": "https://localhost:8080/",
          "height": 283
        },
        "id": "LKu-KgswluOa",
        "outputId": "b2be74a1-a177-43dd-df83-8bcd150311a3"
      },
      "execution_count": 15,
      "outputs": [
        {
          "output_type": "execute_result",
          "data": {
            "text/plain": [
              "<matplotlib.axes._subplots.AxesSubplot at 0x7f3f01aaa580>"
            ]
          },
          "metadata": {},
          "execution_count": 15
        },
        {
          "output_type": "display_data",
          "data": {
            "text/plain": [
              "<Figure size 432x288 with 1 Axes>"
            ],
            "image/png": "[encoded data removed]"
          },
          "metadata": {
            "needs_background": "light"
          }
        }
      ]
    },
    {
      "cell_type": "code",
      "source": [
        "import seaborn as sns\n",
        "import matplotlib.pyplot as plt\n",
        "import matplotlib as mpl\n",
        "%matplotlib inline"
      ],
      "metadata": {
        "id": "UilbExccz8p7"
      },
      "execution_count": 16,
      "outputs": []
    },
    {
      "cell_type": "code",
      "source": [
        "#Checking normal distribution of selected fetures\n",
        "#Sales\n",
        "sns.distplot(Ad.select('Sales').toPandas(), color=\"red\")\n",
        "Ad.select(F.skewness('Sales'), F.kurtosis('Sales')).show()"
      ],
      "metadata": {
        "colab": {
          "base_uri": "https://localhost:8080/",
          "height": 431
        },
        "id": "Q9Orrv-VmHdd",
        "outputId": "6a1c6bc4-fc96-41ba-9e80-593ee44b2520"
      },
      "execution_count": 30,
      "outputs": [
        {
          "output_type": "stream",
          "name": "stderr",
          "text": [
            "/usr/local/lib/python3.8/dist-packages/seaborn/distributions.py:2619: FutureWarning: `distplot` is a deprecated function and will be removed in a future version. Please adapt your code to use either `displot` (a figure-level function with similar flexibility) or `histplot` (an axes-level function for histograms).\n",
            "  warnings.warn(msg, FutureWarning)\n"
          ]
        },
        {
          "output_type": "stream",
          "name": "stdout",
          "text": [
            "+------------------+-------------------+\n",
            "|   skewness(Sales)|    kurtosis(Sales)|\n",
            "+------------------+-------------------+\n",
            "|0.4045082487061196|-0.4285695342675693|\n",
            "+------------------+-------------------+\n",
            "\n"
          ]
        },
        {
          "output_type": "display_data",
          "data": {
            "text/plain": [
              "<Figure size 432x288 with 1 Axes>"
            ],
            "image/png": "[encoded data removed]"
          },
          "metadata": {
            "needs_background": "light"
          }
        }
      ]
    },
    {
      "cell_type": "code",
      "source": [
        "import numpy as np\n",
        "import pandas as pd\n",
        "import matplotlib.pyplot as plt"
      ],
      "metadata": {
        "id": "opfe7WmxGBtq"
      },
      "execution_count": 34,
      "outputs": []
    },
    {
      "cell_type": "code",
      "source": [
        "Ad=Ad.toPandas()\n",
        "fig,axs= plt.subplots(1,3,sharey=True) \n",
        "Ad.plot(kind=\"scatter\",x='TV',y='Sales',ax=axs[0],figsize=(16,8))\n",
        "Ad.plot(kind=\"scatter\",x='Radio',y='Sales',ax=axs[1],figsize=(16,8))\n",
        "Ad.plot(kind=\"scatter\",x='Newspaper',y='Sales',ax=axs[2],figsize=(16,8))\n",
        "plt.show()"
      ],
      "metadata": {
        "colab": {
          "base_uri": "https://localhost:8080/",
          "height": 497
        },
        "id": "wUh2RbWGGDdN",
        "outputId": "f904f649-ff50-4a4a-9805-39a49602b52b"
      },
      "execution_count": 32,
      "outputs": [
        {
          "output_type": "display_data",
          "data": {
            "text/plain": [
              "<Figure size 1152x576 with 3 Axes>"
            ],
            "image/png": "[encoded data removed]"
          },
          "metadata": {
            "needs_background": "light"
          }
        }
      ]
    },
    {
      "cell_type": "code",
      "source": [
        "for i in Ad.columns:\n",
        "    print(i+':',Ad[Ad[i].isNull()].count())"
      ],
      "metadata": {
        "colab": {
          "base_uri": "https://localhost:8080/"
        },
        "id": "OtWTAPHXiTdx",
        "outputId": "ecb56b5e-3290-46c8-c4c1-8ed3074110fa"
      },
      "execution_count": 42,
      "outputs": [
        {
          "output_type": "stream",
          "name": "stdout",
          "text": [
            "Index: 0\n",
            "TV: 0\n",
            "Radio: 0\n",
            "Newspaper: 0\n",
            "Sales: 0\n"
          ]
        }
      ]
    },
    {
      "cell_type": "code",
      "source": [
        "from pyspark.ml.feature import RFormula\n",
        "\n",
        "supervised = RFormula(formula = \"Sales ~  TV + Radio + Newspaper\")\n",
        "fittedRF = supervised.fit(Ad)\n",
        "preparedDF = fittedRF.transform(Ad)\n",
        "preparedDF.show(5, False)"
      ],
      "metadata": {
        "colab": {
          "base_uri": "https://localhost:8080/"
        },
        "id": "jTj0BQ2gh3Ey",
        "outputId": "aca50d07-ba84-45d9-a11e-6825b534a0df"
      },
      "execution_count": 41,
      "outputs": [
        {
          "output_type": "stream",
          "name": "stdout",
          "text": [
            "+-----+-----+-----+---------+-----+-----------------+-----+\n",
            "|Index|TV   |Radio|Newspaper|Sales|features         |label|\n",
            "+-----+-----+-----+---------+-----+-----------------+-----+\n",
            "|1    |230.1|37.8 |69.2     |22.1 |[230.1,37.8,69.2]|22.1 |\n",
            "|2    |44.5 |39.3 |45.1     |10.4 |[44.5,39.3,45.1] |10.4 |\n",
            "|3    |17.2 |45.9 |69.3     |9.3  |[17.2,45.9,69.3] |9.3  |\n",
            "|4    |151.5|41.3 |58.5     |18.5 |[151.5,41.3,58.5]|18.5 |\n",
            "|5    |180.8|10.8 |58.4     |12.9 |[180.8,10.8,58.4]|12.9 |\n",
            "+-----+-----+-----+---------+-----+-----------------+-----+\n",
            "only showing top 5 rows\n",
            "\n"
          ]
        }
      ]
    },
    {
      "cell_type": "code",
      "source": [
        "from pyspark.ml.feature import VectorAssembler\n",
        "\n",
        "va = VectorAssembler()\\\n",
        "    .setInputCols([\"TV\",\"Radio\", \"Newspaper\"])\\\n",
        "    .setOutputCol(\"va_features\")\n",
        "\n",
        "va.transform(preparedDF).show(5)"
      ],
      "metadata": {
        "colab": {
          "base_uri": "https://localhost:8080/"
        },
        "id": "sDaxUYeojW3P",
        "outputId": "dfa76da1-20c2-44ec-b448-0c587b4b9f1d"
      },
      "execution_count": 43,
      "outputs": [
        {
          "output_type": "stream",
          "name": "stdout",
          "text": [
            "+-----+-----+-----+---------+-----+-----------------+-----+-----------------+\n",
            "|Index|   TV|Radio|Newspaper|Sales|         features|label|      va_features|\n",
            "+-----+-----+-----+---------+-----+-----------------+-----+-----------------+\n",
            "|    1|230.1| 37.8|     69.2| 22.1|[230.1,37.8,69.2]| 22.1|[230.1,37.8,69.2]|\n",
            "|    2| 44.5| 39.3|     45.1| 10.4| [44.5,39.3,45.1]| 10.4| [44.5,39.3,45.1]|\n",
            "|    3| 17.2| 45.9|     69.3|  9.3| [17.2,45.9,69.3]|  9.3| [17.2,45.9,69.3]|\n",
            "|    4|151.5| 41.3|     58.5| 18.5|[151.5,41.3,58.5]| 18.5|[151.5,41.3,58.5]|\n",
            "|    5|180.8| 10.8|     58.4| 12.9|[180.8,10.8,58.4]| 12.9|[180.8,10.8,58.4]|\n",
            "+-----+-----+-----+---------+-----+-----------------+-----+-----------------+\n",
            "only showing top 5 rows\n",
            "\n"
          ]
        }
      ]
    },
    {
      "cell_type": "code",
      "source": [
        "from pyspark.ml.feature import StandardScaler\n",
        "\n",
        "\n",
        "scaler = StandardScaler().setInputCol(\"features\").setOutputCol(\"scaledFeatures\")\n",
        "\n",
        "scaledDF = scaler.fit(preparedDF).transform(preparedDF)"
      ],
      "metadata": {
        "id": "6aPSRxDzjZno"
      },
      "execution_count": 44,
      "outputs": []
    },
    {
      "cell_type": "code",
      "source": [
        "scaledDF.show(5, False)"
      ],
      "metadata": {
        "colab": {
          "base_uri": "https://localhost:8080/"
        },
        "id": "axlhFp3Mjdbx",
        "outputId": "c208e42f-d39a-4664-e094-4f72cf645752"
      },
      "execution_count": 45,
      "outputs": [
        {
          "output_type": "stream",
          "name": "stdout",
          "text": [
            "+-----+-----+-----+---------+-----+-----------------+-----+----------------------------------------------------------+\n",
            "|Index|TV   |Radio|Newspaper|Sales|features         |label|scaledFeatures                                            |\n",
            "+-----+-----+-----+---------+-----+-----------------+-----+----------------------------------------------------------+\n",
            "|1    |230.1|37.8 |69.2     |22.1 |[230.1,37.8,69.2]|22.1 |[2.6801240087443956,2.546001605562121,3.1774280159006443] |\n",
            "|2    |44.5 |39.3 |45.1     |10.4 |[44.5,39.3,45.1] |10.4 |[0.5183203754416584,2.6470334153066495,2.0708382011144373]|\n",
            "|3    |17.2 |45.9 |69.3     |9.3  |[17.2,45.9,69.3] |9.3  |[0.2003395608448657,3.0915733781825754,3.182019674883159] |\n",
            "|4    |151.5|41.3 |58.5     |18.5 |[151.5,41.3,58.5]|18.5 |[1.7646188062789046,2.781742494966021,2.686120504771498]  |\n",
            "|5    |180.8|10.8 |58.4     |12.9 |[180.8,10.8,58.4]|12.9 |[2.105894918648356,0.727429030160606,2.6815288457889825]  |\n",
            "+-----+-----+-----+---------+-----+-----------------+-----+----------------------------------------------------------+\n",
            "only showing top 5 rows\n",
            "\n"
          ]
        }
      ]
    },
    {
      "cell_type": "code",
      "source": [
        "from pyspark.ml import Pipeline\n",
        "from pyspark.ml.regression import LinearRegression\n",
        "from pyspark.ml.feature import VectorIndexer\n",
        "from pyspark.ml.evaluation import RegressionEvaluator\n",
        "\n",
        "featureIndexer = VectorIndexer().setInputCol(\"features\").setOutputCol(\"indexedFeatures\").setMaxCategories(4).fit(preparedDF)\n",
        "\n",
        "data = featureIndexer.transform(preparedDF)\n",
        "\n",
        "data.show(5)"
      ],
      "metadata": {
        "colab": {
          "base_uri": "https://localhost:8080/"
        },
        "id": "qe4tOhPzjgCD",
        "outputId": "229d83e4-0e94-49d7-ac2c-a2c52854a54b"
      },
      "execution_count": 46,
      "outputs": [
        {
          "output_type": "stream",
          "name": "stdout",
          "text": [
            "+-----+-----+-----+---------+-----+-----------------+-----+-----------------+\n",
            "|Index|   TV|Radio|Newspaper|Sales|         features|label|  indexedFeatures|\n",
            "+-----+-----+-----+---------+-----+-----------------+-----+-----------------+\n",
            "|    1|230.1| 37.8|     69.2| 22.1|[230.1,37.8,69.2]| 22.1|[230.1,37.8,69.2]|\n",
            "|    2| 44.5| 39.3|     45.1| 10.4| [44.5,39.3,45.1]| 10.4| [44.5,39.3,45.1]|\n",
            "|    3| 17.2| 45.9|     69.3|  9.3| [17.2,45.9,69.3]|  9.3| [17.2,45.9,69.3]|\n",
            "|    4|151.5| 41.3|     58.5| 18.5|[151.5,41.3,58.5]| 18.5|[151.5,41.3,58.5]|\n",
            "|    5|180.8| 10.8|     58.4| 12.9|[180.8,10.8,58.4]| 12.9|[180.8,10.8,58.4]|\n",
            "+-----+-----+-----+---------+-----+-----------------+-----+-----------------+\n",
            "only showing top 5 rows\n",
            "\n"
          ]
        }
      ]
    },
    {
      "cell_type": "code",
      "source": [
        "scaler = StandardScaler().setInputCol(\"indexedFeatures\").setOutputCol(\"scaledFeatures\")\n",
        "\n",
        "finalScaledData = scaler.fit(data).transform(data)\n",
        "\n",
        "finalScaledData.show(5, False)"
      ],
      "metadata": {
        "colab": {
          "base_uri": "https://localhost:8080/"
        },
        "id": "U528k8XZjkAm",
        "outputId": "de7d853d-457a-45a4-ef56-20795e519c55"
      },
      "execution_count": 47,
      "outputs": [
        {
          "output_type": "stream",
          "name": "stdout",
          "text": [
            "+-----+-----+-----+---------+-----+-----------------+-----+-----------------+----------------------------------------------------------+\n",
            "|Index|TV   |Radio|Newspaper|Sales|features         |label|indexedFeatures  |scaledFeatures                                            |\n",
            "+-----+-----+-----+---------+-----+-----------------+-----+-----------------+----------------------------------------------------------+\n",
            "|1    |230.1|37.8 |69.2     |22.1 |[230.1,37.8,69.2]|22.1 |[230.1,37.8,69.2]|[2.6801240087443956,2.546001605562121,3.1774280159006443] |\n",
            "|2    |44.5 |39.3 |45.1     |10.4 |[44.5,39.3,45.1] |10.4 |[44.5,39.3,45.1] |[0.5183203754416584,2.6470334153066495,2.0708382011144373]|\n",
            "|3    |17.2 |45.9 |69.3     |9.3  |[17.2,45.9,69.3] |9.3  |[17.2,45.9,69.3] |[0.2003395608448657,3.0915733781825754,3.182019674883159] |\n",
            "|4    |151.5|41.3 |58.5     |18.5 |[151.5,41.3,58.5]|18.5 |[151.5,41.3,58.5]|[1.7646188062789046,2.781742494966021,2.686120504771498]  |\n",
            "|5    |180.8|10.8 |58.4     |12.9 |[180.8,10.8,58.4]|12.9 |[180.8,10.8,58.4]|[2.105894918648356,0.727429030160606,2.6815288457889825]  |\n",
            "+-----+-----+-----+---------+-----+-----------------+-----+-----------------+----------------------------------------------------------+\n",
            "only showing top 5 rows\n",
            "\n"
          ]
        }
      ]
    },
    {
      "cell_type": "code",
      "source": [
        "from pyspark.ml.feature import VectorAssembler\n",
        "\n",
        "assembler = VectorAssembler(inputCols=['TV','Radio','Newspaper','Sales'],\n",
        "                            outputCol='features')\n",
        "\n",
        "# display dataframe\n",
        "output_data = assembler.transform(Ad)\n",
        "output_data.show(5)"
      ],
      "metadata": {
        "colab": {
          "base_uri": "https://localhost:8080/"
        },
        "id": "pwYqWq_KiDFF",
        "outputId": "9c15779d-e8ab-4a39-f1ad-d588be4e4a8a"
      },
      "execution_count": 48,
      "outputs": [
        {
          "output_type": "stream",
          "name": "stdout",
          "text": [
            "+-----+-----+-----+---------+-----+--------------------+\n",
            "|Index|   TV|Radio|Newspaper|Sales|            features|\n",
            "+-----+-----+-----+---------+-----+--------------------+\n",
            "|    1|230.1| 37.8|     69.2| 22.1|[230.1,37.8,69.2,...|\n",
            "|    2| 44.5| 39.3|     45.1| 10.4|[44.5,39.3,45.1,1...|\n",
            "|    3| 17.2| 45.9|     69.3|  9.3|[17.2,45.9,69.3,9.3]|\n",
            "|    4|151.5| 41.3|     58.5| 18.5|[151.5,41.3,58.5,...|\n",
            "|    5|180.8| 10.8|     58.4| 12.9|[180.8,10.8,58.4,...|\n",
            "+-----+-----+-----+---------+-----+--------------------+\n",
            "only showing top 5 rows\n",
            "\n"
          ]
        }
      ]
    },
    {
      "cell_type": "code",
      "source": [
        "from pyspark.ml.regression import LinearRegression\n",
        "\n",
        "final_data = output_data.select('features','Sales')\n",
        "\n",
        "# Print schema of final data\n",
        "final_data.printSchema()"
      ],
      "metadata": {
        "colab": {
          "base_uri": "https://localhost:8080/"
        },
        "id": "yIrCiOU3itPE",
        "outputId": "1cf765f3-e083-4860-a5cd-a506072ff812"
      },
      "execution_count": 49,
      "outputs": [
        {
          "output_type": "stream",
          "name": "stdout",
          "text": [
            "root\n",
            " |-- features: vector (nullable = true)\n",
            " |-- Sales: double (nullable = true)\n",
            "\n"
          ]
        }
      ]
    },
    {
      "cell_type": "code",
      "source": [
        "train, test = final_data.randomSplit([0.7, 0.3])"
      ],
      "metadata": {
        "id": "Frh4aI1RizdK"
      },
      "execution_count": 50,
      "outputs": []
    },
    {
      "cell_type": "code",
      "source": [
        "models = LinearRegression(featuresCol='features',labelCol='Sales')\n",
        "model = models.fit(train)\n",
        "\n",
        "# Get summary of the model\n",
        "summary = model.summary\n",
        "\n",
        "# Print rmse & r2\n",
        "print('\\033[1m' + 'RMSE:',summary.rootMeanSquaredError)\n",
        "print('R2 score:', summary.r2)\n",
        "print('MAE score:', summary.meanAbsoluteError)\n",
        "print('MSE score:', summary.meanSquaredError)"
      ],
      "metadata": {
        "colab": {
          "base_uri": "https://localhost:8080/"
        },
        "id": "UeVfHNGfi1v5",
        "outputId": "d699d1d1-642c-4670-c638-c939fc229e06"
      },
      "execution_count": 51,
      "outputs": [
        {
          "output_type": "stream",
          "name": "stdout",
          "text": [
            "\u001b[1mRMSE: 1.606329983449067e-14\n",
            "R2 score: 1.0\n",
            "MAE score: 1.178214613995304e-14\n",
            "MSE score: 2.58029601572748e-28\n"
          ]
        }
      ]
    }
  ]
}